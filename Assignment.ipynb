{
  "nbformat": 4,
  "nbformat_minor": 0,
  "metadata": {
    "colab": {
      "provenance": []
    },
    "kernelspec": {
      "name": "python3",
      "display_name": "Python 3"
    },
    "language_info": {
      "name": "python"
    }
  },
  "cells": [
    {
      "cell_type": "markdown",
      "source": [
        "1) Could we sum it?\n",
        "Let Ankur has given a large weight W, and a list of smaller weights in an array. He needs to write a\n",
        "code in order to find \"can we form weight W or not, using smaller weights\". He only knows dp\n",
        "solution. Could you write a code solution for him without using dp."
      ],
      "metadata": {
        "id": "ycsFo2uSVyT1"
      }
    },
    {
      "cell_type": "code",
      "source": [
        "def can_form_weight(W, weights):\n",
        "    if W == 0:\n",
        "        return True\n",
        "    if not weights or W < 0:\n",
        "        return False\n",
        "    \n",
        "    # Recursive call\n",
        "    return check_combinations(W, weights, 0)\n",
        "\n",
        "\n",
        "def check_combinations(W, weights, index):\n",
        "    if W == 0:\n",
        "        return True\n",
        "    if index >= len(weights):\n",
        "        return False\n",
        "    \n",
        "    # Check if current weight can be included or excluded\n",
        "    return check_combinations(W - weights[index], weights, index + 1) or check_combinations(W, weights, index + 1)\n",
        "\n",
        "\n"
      ],
      "metadata": {
        "id": "rnTmRy0pWXNx"
      },
      "execution_count": 12,
      "outputs": []
    },
    {
      "cell_type": "code",
      "source": [
        "w=12\n",
        "weights=[4,3,5,6,4]\n",
        "can_form_weight(W, weights)"
      ],
      "metadata": {
        "colab": {
          "base_uri": "https://localhost:8080/"
        },
        "id": "OtuvgbsOcIpe",
        "outputId": "21c6ebd6-d9ff-4f8d-e05f-a504a2398dc6"
      },
      "execution_count": 13,
      "outputs": [
        {
          "output_type": "execute_result",
          "data": {
            "text/plain": [
              "True"
            ]
          },
          "metadata": {},
          "execution_count": 13
        }
      ]
    },
    {
      "cell_type": "code",
      "source": [
        "# Sample Input1: -\n",
        "# W = 15\n",
        "# list = {4, 3, 5, 6, 4}\n",
        "# Output: - True\n",
        "# Explanation: -\n",
        "# 15 =4 + 5 + 6.\n",
        "\n",
        "w=15\n",
        "weights=[4,3,5,6,4]\n",
        "result=can_form_weight(w,weights)\n",
        "print(result)\n",
        "\n"
      ],
      "metadata": {
        "colab": {
          "base_uri": "https://localhost:8080/"
        },
        "id": "NHzm1eU6Whzu",
        "outputId": "b342d670-2241-46eb-c3d1-b31a015678a1"
      },
      "execution_count": 5,
      "outputs": [
        {
          "output_type": "stream",
          "name": "stdout",
          "text": [
            "True\n"
          ]
        }
      ]
    },
    {
      "cell_type": "code",
      "source": [
        "# Sample Input2: -\n",
        "# W = 9\n",
        "# list = {4, 1, 3, 7}\n",
        "# Output: - False.\n",
        "# Explanation: - There is no way to sum up 7\n",
        "\n",
        "\n",
        "w=9\n",
        "weights=[4,1,3,7]\n",
        "result=can_form_weight(w,weights)\n",
        "print(result)\n"
      ],
      "metadata": {
        "colab": {
          "base_uri": "https://localhost:8080/"
        },
        "id": "XPvi2U-9WhxW",
        "outputId": "127bedc5-fad0-4752-e80a-fc57d5edaead"
      },
      "execution_count": 8,
      "outputs": [
        {
          "output_type": "stream",
          "name": "stdout",
          "text": [
            "False\n"
          ]
        }
      ]
    },
    {
      "cell_type": "markdown",
      "source": [
        "# 1. How Do You Handle Missing or Corrupted Data in a Dataset?\n",
        "A) \n",
        "Handling missing or corrupted data in a dataset is an important step in data processing.some of common approaches to handle the missing values\n",
        " **identify and understanding the missing values:** first identify the missing valuse there in the form of empty space,NaN,NULL,NA.\n",
        "\n",
        " **Delect or discard missing values:** if the missing values will not impact the data set we can delete them.\n",
        "\n",
        "** Imputation:** if there is any impact with the dataset then we use imputation method replacing the missing values with **Mean,Median,Mode**.\n",
        "\n",
        "**Forward-fill or backward-fill imputation:** Propagate the last known value forward or the next known value backward to fill in missing values.\n",
        "\n",
        "these are the some of the methods to handle the missing values.\n"
      ],
      "metadata": {
        "id": "5SRfAm5MXL_Y"
      }
    },
    {
      "cell_type": "markdown",
      "source": [
        "# 2).What Are the Three Stages of Building a Model in Machine Learning?\n",
        "A)\n",
        "## **1.Data Processing and Feature Engineering**\n",
        "## **2.Model Building and Training** \n",
        "## **3.Model Evaluation and Deployment**\n",
        "**1.Data Processing and Feature:** \n",
        "**Data Cleaning:** Handling missing values, removing duplicates, and addressing outliers.\n",
        "**Feature Selection:** Identifying relevant features that contribute to the prediction task.\n",
        "**Feature Engineering: **Creating new features or transforming existing ones to improve model performance.\n",
        "Data Scaling and Normalization: Ensuring that the data is on a consistent scale to prevent certain features from dominating the model.\n",
        "**Train-Test Split:** Splitting the data into training and testing sets to evaluate the model's performance.\n",
        "\n",
        "**2.Model Building and Training:** \n",
        "**Model Selection:** Choosing an appropriate model based on the problem type (e.g., classification, regression), data characteristics, and performance requirements.\n",
        "**Model Initialization:** Setting initial values for the model's parameters or weights.\n",
        "**Model Training:** Iteratively optimizing the model by feeding it with the training data and adjusting the parameters to minimize the difference between predicted and actual values.\n",
        "**Model Evaluation:** Assessing the trained model's performance using evaluation metrics, such as accuracy, precision, recall, or mean squared error, depending on the problem type. \n",
        "\n",
        "**3.Model Evaluation and Deployment:**\n",
        "**Model Evaluation:** Assessing the model's performance on the testing set to understand its ability to generalize to unseen data.\n",
        "**Model Fine-tuning:** Adjusting hyperparameters or model architecture to further improve performance based on evaluation results.\n",
        "**Model Validation:** Checking the model's performance on an independent validation set to verify its generalization capability.\n",
        "**Model Deployment:** If the model meets the desired performance criteria, it can be deployed into a production environment for real-world use. This may involve integrating the model into an application or system and monitoring its performance over time.\n"
      ],
      "metadata": {
        "id": "f8y2_F49ZnPF"
      }
    }
  ]
}